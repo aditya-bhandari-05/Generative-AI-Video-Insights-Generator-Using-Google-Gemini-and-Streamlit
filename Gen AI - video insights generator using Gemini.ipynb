{
  "nbformat": 4,
  "nbformat_minor": 0,
  "metadata": {
    "colab": {
      "provenance": []
    },
    "kernelspec": {
      "name": "python3",
      "display_name": "Python 3"
    },
    "language_info": {
      "name": "python"
    }
  },
  "cells": [
    {
      "cell_type": "markdown",
      "source": [
        "# **Generative AI Video Insights Generator Using Google- Gemini and Streamlit**\n",
        "\n",
        "## **Overview**\n",
        "\n",
        "This project is a Streamlit-based web application that allows users to upload a video file and analyze its content using Google's Gemini API. The application leverages the capabilities of large language models to extract insights from video content and have various uses, some of which are mentioned below:\n",
        "\n",
        "**1. Research and Academic Projects**\n",
        "\n",
        "*   **Lecture Summarization:** Quickly extract key points from academic lectures or research presentations.\n",
        "*   **Qualitative Research:** Analyze interviews or focus group discussions for patterns and themes.\n",
        "*   **Experiment Documentation:** Review and summarize laboratory experiment recordings.\n",
        "    \n",
        "\n",
        "**2. Business and Market Analysis**\n",
        "\n",
        "\n",
        "*   **Competitor Video Analysis:** Extract insights from promotional videos, product launches, or advertisements.\n",
        "*   **Customer Feedback:** Analyze customer testimonial videos to identify trends and areas for improvement.\n",
        "\n"
      ],
      "metadata": {
        "id": "9KkJcwLS12zi"
      }
    },
    {
      "cell_type": "markdown",
      "source": [
        "## **Execution Flow**\n",
        "\n",
        "To help you better understand how this project works, here’s a breakdown of the key steps involved in its execution:\n",
        "\n",
        "1. Application starts with __init__() to set up environment and API configuration.\n",
        "\n",
        "2. Streamlit interface is rendered with **app()**.\n",
        "\n",
        "3. User uploads a video and inputs a prompt.\n",
        "\n",
        "4. Video file is saved locally using **save_uploaded_file()**.\n",
        "\n",
        "5. Video is displayed on the Streamlit app.\n",
        "\n",
        "6. **get_insights()** uploads the video to Gemini API and sends a prompt for analysis.\n",
        "\n",
        "7. Insights from the video are displayed to the user.\n",
        "\n",
        "8. Temporary video file is deleted from the local system."
      ],
      "metadata": {
        "id": "2Zrc2qPK9OsM"
      }
    },
    {
      "cell_type": "markdown",
      "source": [
        "## **Project Structure**"
      ],
      "metadata": {
        "id": "DwqBrPOa4vcr"
      }
    },
    {
      "cell_type": "code",
      "source": [
        "project_folder/\n",
        "|-- medias/               # Directory to store uploaded media files\n",
        "|-- app.py                # Main application code\n",
        "|-- .env                  # Environment variables file containing GEMINI_API_KEY"
      ],
      "metadata": {
        "id": "QITbav2X42Nq"
      },
      "execution_count": null,
      "outputs": []
    },
    {
      "cell_type": "markdown",
      "source": [
        "## **Key Components**\n",
        "\n",
        "### **1. Initialization**\n",
        "\n",
        "This block initializes the environment and API configuration.\n",
        "\n",
        "*   Imports necessary libraries.\n",
        "*   Creates a folder medias/ to store uploaded videos if it doesn't exist.\n",
        "*   Loads the API key from the .env file using dotenv.\n",
        "*   Configures the genai client with the API key.\n",
        "\n"
      ],
      "metadata": {
        "id": "NNNVt0Ab45Px"
      }
    },
    {
      "cell_type": "code",
      "source": [
        "import os\n",
        "import time\n",
        "import google.generativeai as genai\n",
        "import streamlit as st\n",
        "from dotenv import load_dotenv\n",
        "\n",
        "MEDIA_FOLDER = 'medias'\n",
        "\n",
        "def __init__():\n",
        "    if not os.path.exists(MEDIA_FOLDER):\n",
        "        os.makedirs(MEDIA_FOLDER)\n",
        "\n",
        "    load_dotenv()\n",
        "    api_key = os.getenv(\"GEMINI_API_KEY\")\n",
        "    genai.configure(api_key=api_key)"
      ],
      "metadata": {
        "id": "9jYkIjgo5ZK9"
      },
      "execution_count": null,
      "outputs": []
    },
    {
      "cell_type": "markdown",
      "source": [
        "### **2. Saving Uploaded Files**\n",
        "\n",
        "This block handles file uploads. It:\n",
        "\n",
        "*   Accepts an uploaded file object from the user.\n",
        "*   Saves the file into the medias/ directory with its original filename.\n",
        "*   Returns the path of the saved file.\n"
      ],
      "metadata": {
        "id": "YRsSgAHL5ibZ"
      }
    },
    {
      "cell_type": "code",
      "source": [
        "def save_uploaded_file(uploaded_file):\n",
        "    file_path = os.path.join(MEDIA_FOLDER, uploaded_file.name)\n",
        "    with open(file_path, 'wb') as f:\n",
        "        f.write(uploaded_file.read())\n",
        "    return file_path"
      ],
      "metadata": {
        "id": "jYeEWmjW6jF4"
      },
      "execution_count": null,
      "outputs": []
    },
    {
      "cell_type": "markdown",
      "source": [
        "### **3. Extracting Video Insights**\n",
        "\n",
        "This block interacts with the Gemini API to process the uploaded video and generate insights. It:\n",
        "\n",
        "*   Uploads the video file to the Gemini API.\n",
        "*   Polls the API until the video processing is complete.\n",
        "*   Sends the video and user-specified prompt to a generative model for analysis.\n",
        "*   Displays the insights in the Streamlit interface.\n",
        "*   Deletes the video from the API storage after processing.\n"
      ],
      "metadata": {
        "id": "30bZrKQA6qC-"
      }
    },
    {
      "cell_type": "code",
      "source": [
        "def get_insights(video_path, prompt):\n",
        "    st.write(f\"Processing video: {video_path}\")\n",
        "\n",
        "    st.write(f\"Uploading file...\")\n",
        "    video_file = genai.upload_file(path=video_path)\n",
        "    st.write(f\"Completed upload: {video_file.uri}\")\n",
        "\n",
        "    while video_file.state.name == \"PROCESSING\":\n",
        "        st.write('Waiting for video to be processed.')\n",
        "        time.sleep(10)\n",
        "        video_file = genai.get_file(video_file.name)\n",
        "\n",
        "    if video_file.state.name == \"FAILED\":\n",
        "        raise ValueError(video_file.state.name)\n",
        "\n",
        "    model = genai.GenerativeModel(model_name=\"models/gemini-1.5-flash\")\n",
        "\n",
        "    st.write(\"Making LLM inference request...\")\n",
        "    response = model.generate_content([prompt, video_file],\n",
        "                                      request_options={\"timeout\": 600})\n",
        "    st.write(f'Video processing complete')\n",
        "    st.subheader(\"Insights\")\n",
        "    st.write(response.text)\n",
        "    genai.delete_file(video_file.name)"
      ],
      "metadata": {
        "id": "rGE2uO0y6_za"
      },
      "execution_count": null,
      "outputs": []
    },
    {
      "cell_type": "markdown",
      "source": [
        "### **4. Streamlit Application**\n",
        "\n",
        "This block builds the user interface for the application. It:\n",
        "\n",
        "*   Displays a file uploader and a text input area for the prompt.\n",
        "*   Saves the uploaded video file locally.\n",
        "*   Displays the uploaded video within the app.\n",
        "*   Calls **get_insights()** to analyze the video content.\n",
        "*   Deletes the local video file after processing.\n"
      ],
      "metadata": {
        "id": "YYCL0ADR7ERG"
      }
    },
    {
      "cell_type": "code",
      "source": [
        "def app():\n",
        "    st.title(\"Video Insights Generator\")\n",
        "\n",
        "    uploaded_file = st.file_uploader(\"Upload a video file\", type=[\"mp4\", \"avi\", \"mov\", \"mkv\"])\n",
        "\n",
        "    prompt = st.text_area(\"Enter your prompt for video analysis\")\n",
        "\n",
        "    if uploaded_file is not None and prompt:\n",
        "        file_path = save_uploaded_file(uploaded_file)\n",
        "        st.video(file_path)\n",
        "        get_insights(file_path, prompt)\n",
        "\n",
        "        if os.path.exists(file_path):\n",
        "            os.remove(file_path)"
      ],
      "metadata": {
        "id": "KnrfXbPJ7V1Q"
      },
      "execution_count": null,
      "outputs": []
    },
    {
      "cell_type": "markdown",
      "source": [
        "### **5. Running the Application**\n",
        "\n",
        "This block triggers the execution of the program. It:\n",
        "\n",
        "*   Calls __init__() method to set up the environment and API configuration.\n",
        "*   Calls **app()** method to launch the Streamlit application.\n"
      ],
      "metadata": {
        "id": "Pjh0KyBr7ZuY"
      }
    },
    {
      "cell_type": "code",
      "source": [
        "__init__()\n",
        "app()"
      ],
      "metadata": {
        "id": "UpblhQey71Hh"
      },
      "execution_count": null,
      "outputs": []
    }
  ]
}